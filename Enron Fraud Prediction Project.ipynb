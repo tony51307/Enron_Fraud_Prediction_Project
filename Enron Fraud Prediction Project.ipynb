{
 "cells": [
  {
   "cell_type": "markdown",
   "metadata": {},
   "source": [
    "# Enron Fraud Prediction Project (from Kaggle, Score: 0.94285 Top 10%)"
   ]
  },
  {
   "cell_type": "markdown",
   "metadata": {},
   "source": [
    "Competition Link: https://www.kaggle.com/c/ml100/overview\n",
    "\n",
    "The Enron scandal, publicized in October 2001, led to the bankruptcy of the Enron Corporation, an American energy company based in Houston, Texas, and the de facto dissolution of Arthur Andersen, which was one of the five largest audit and accountancy partnerships in the world.\n",
    "\n",
    "The goal of this project is to use Eron's employee dataset and machine learning methods to identify the people of interest in Enron Fraud."
   ]
  },
  {
   "cell_type": "markdown",
   "metadata": {},
   "source": [
    "# Table of Content"
   ]
  },
  {
   "cell_type": "markdown",
   "metadata": {},
   "source": [
    "### 1. Quick Look at the Dataset\n",
    "### 2. Deal with Outliers\n",
    "### 3. Feature Engineering\n",
    "### 4. Feature Selection\n",
    "### 5. Tune hyperparameters and Train Model\n",
    "### 6. Result"
   ]
  },
  {
   "cell_type": "markdown",
   "metadata": {},
   "source": [
    "# 1. Quick Look at the Dataset"
   ]
  },
  {
   "cell_type": "code",
   "execution_count": 32,
   "metadata": {},
   "outputs": [
    {
     "name": "stdout",
     "output_type": "stream",
     "text": [
      "<class 'pandas.core.frame.DataFrame'>\n",
      "RangeIndex: 113 entries, 0 to 112\n",
      "Data columns (total 22 columns):\n",
      " #   Column                     Non-Null Count  Dtype  \n",
      "---  ------                     --------------  -----  \n",
      " 0   name                       113 non-null    object \n",
      " 1   bonus                      61 non-null     float64\n",
      " 2   deferral_payments          28 non-null     float64\n",
      " 3   deferred_income            34 non-null     float64\n",
      " 4   director_fees              13 non-null     float64\n",
      " 5   email_address              83 non-null     object \n",
      " 6   exercised_stock_options    81 non-null     float64\n",
      " 7   expenses                   73 non-null     float64\n",
      " 8   from_messages              65 non-null     float64\n",
      " 9   from_poi_to_this_person    65 non-null     float64\n",
      " 10  from_this_person_to_poi    65 non-null     float64\n",
      " 11  loan_advances              2 non-null      float64\n",
      " 12  long_term_incentive        49 non-null     float64\n",
      " 13  other                      69 non-null     float64\n",
      " 14  poi                        113 non-null    bool   \n",
      " 15  restricted_stock           82 non-null     float64\n",
      " 16  restricted_stock_deferred  10 non-null     float64\n",
      " 17  salary                     73 non-null     float64\n",
      " 18  shared_receipt_with_poi    65 non-null     float64\n",
      " 19  to_messages                65 non-null     float64\n",
      " 20  total_payments             96 non-null     float64\n",
      " 21  total_stock_value          98 non-null     float64\n",
      "dtypes: bool(1), float64(19), object(2)\n",
      "memory usage: 18.8+ KB\n"
     ]
    }
   ],
   "source": [
    "import pandas as pd\n",
    "import numpy as np\n",
    "import matplotlib.pyplot as plt\n",
    "\n",
    "data = pd.read_csv('./ml100/train_data.csv')\n",
    "\n",
    "data.info()"
   ]
  },
  {
   "cell_type": "markdown",
   "metadata": {},
   "source": [
    "As we can see above, the dataset contains many null values. According to the documents, for financial features, null value means zero. Hence, I would first fill those empty cells with zero.\n",
    "\n",
    "On the other hand, for the email-related columns, such as \"from_message\", null value means unknown information. I would like to use the mean values to fill those cells."
   ]
  },
  {
   "cell_type": "code",
   "execution_count": 33,
   "metadata": {},
   "outputs": [],
   "source": [
    "financial_col = ['bonus','deferral_payments','deferred_income',\n",
    "                 'director_fees','exercised_stock_options','expenses','loan_advances',\n",
    "                'long_term_incentive','other','restricted_stock',\n",
    "                'restricted_stock_deferred','salary','total_payments',\n",
    "                'total_stock_value']\n",
    "\n",
    "email_col = ['from_messages','from_poi_to_this_person',\n",
    "             'from_this_person_to_poi','shared_receipt_with_poi','to_messages']\n",
    "\n",
    "data[financial_col] = data[financial_col].fillna(0)"
   ]
  },
  {
   "cell_type": "code",
   "execution_count": 34,
   "metadata": {},
   "outputs": [
    {
     "data": {
      "text/html": [
       "<div>\n",
       "<style scoped>\n",
       "    .dataframe tbody tr th:only-of-type {\n",
       "        vertical-align: middle;\n",
       "    }\n",
       "\n",
       "    .dataframe tbody tr th {\n",
       "        vertical-align: top;\n",
       "    }\n",
       "\n",
       "    .dataframe thead th {\n",
       "        text-align: right;\n",
       "    }\n",
       "</style>\n",
       "<table border=\"1\" class=\"dataframe\">\n",
       "  <thead>\n",
       "    <tr style=\"text-align: right;\">\n",
       "      <th></th>\n",
       "      <th>name</th>\n",
       "      <th>bonus</th>\n",
       "      <th>deferral_payments</th>\n",
       "      <th>deferred_income</th>\n",
       "      <th>director_fees</th>\n",
       "      <th>email_address</th>\n",
       "      <th>exercised_stock_options</th>\n",
       "      <th>expenses</th>\n",
       "      <th>from_messages</th>\n",
       "      <th>from_poi_to_this_person</th>\n",
       "      <th>...</th>\n",
       "      <th>long_term_incentive</th>\n",
       "      <th>other</th>\n",
       "      <th>poi</th>\n",
       "      <th>restricted_stock</th>\n",
       "      <th>restricted_stock_deferred</th>\n",
       "      <th>salary</th>\n",
       "      <th>shared_receipt_with_poi</th>\n",
       "      <th>to_messages</th>\n",
       "      <th>total_payments</th>\n",
       "      <th>total_stock_value</th>\n",
       "    </tr>\n",
       "  </thead>\n",
       "  <tbody>\n",
       "    <tr>\n",
       "      <th>0</th>\n",
       "      <td>RICE KENNETH D</td>\n",
       "      <td>1750000.0</td>\n",
       "      <td>0.0</td>\n",
       "      <td>-3504386.0</td>\n",
       "      <td>0.0</td>\n",
       "      <td>ken.rice@enron.com</td>\n",
       "      <td>19794175.0</td>\n",
       "      <td>46950.0</td>\n",
       "      <td>18.000000</td>\n",
       "      <td>42.000000</td>\n",
       "      <td>...</td>\n",
       "      <td>1617011.0</td>\n",
       "      <td>174839.0</td>\n",
       "      <td>True</td>\n",
       "      <td>2748364.0</td>\n",
       "      <td>0.0</td>\n",
       "      <td>420636.0</td>\n",
       "      <td>864.0</td>\n",
       "      <td>905.000000</td>\n",
       "      <td>505050.0</td>\n",
       "      <td>22542539.0</td>\n",
       "    </tr>\n",
       "    <tr>\n",
       "      <th>1</th>\n",
       "      <td>SKILLING JEFFREY K</td>\n",
       "      <td>5600000.0</td>\n",
       "      <td>0.0</td>\n",
       "      <td>0.0</td>\n",
       "      <td>0.0</td>\n",
       "      <td>jeff.skilling@enron.com</td>\n",
       "      <td>19250000.0</td>\n",
       "      <td>29336.0</td>\n",
       "      <td>108.000000</td>\n",
       "      <td>88.000000</td>\n",
       "      <td>...</td>\n",
       "      <td>1920000.0</td>\n",
       "      <td>22122.0</td>\n",
       "      <td>True</td>\n",
       "      <td>6843672.0</td>\n",
       "      <td>0.0</td>\n",
       "      <td>1111258.0</td>\n",
       "      <td>2042.0</td>\n",
       "      <td>3627.000000</td>\n",
       "      <td>8682716.0</td>\n",
       "      <td>26093672.0</td>\n",
       "    </tr>\n",
       "    <tr>\n",
       "      <th>2</th>\n",
       "      <td>SHELBY REX</td>\n",
       "      <td>200000.0</td>\n",
       "      <td>0.0</td>\n",
       "      <td>-4167.0</td>\n",
       "      <td>0.0</td>\n",
       "      <td>rex.shelby@enron.com</td>\n",
       "      <td>1624396.0</td>\n",
       "      <td>22884.0</td>\n",
       "      <td>39.000000</td>\n",
       "      <td>13.000000</td>\n",
       "      <td>...</td>\n",
       "      <td>0.0</td>\n",
       "      <td>1573324.0</td>\n",
       "      <td>True</td>\n",
       "      <td>869220.0</td>\n",
       "      <td>0.0</td>\n",
       "      <td>211844.0</td>\n",
       "      <td>91.0</td>\n",
       "      <td>225.000000</td>\n",
       "      <td>2003885.0</td>\n",
       "      <td>2493616.0</td>\n",
       "    </tr>\n",
       "    <tr>\n",
       "      <th>3</th>\n",
       "      <td>KOPPER MICHAEL J</td>\n",
       "      <td>800000.0</td>\n",
       "      <td>0.0</td>\n",
       "      <td>0.0</td>\n",
       "      <td>0.0</td>\n",
       "      <td>michael.kopper@enron.com</td>\n",
       "      <td>0.0</td>\n",
       "      <td>118134.0</td>\n",
       "      <td>60.444444</td>\n",
       "      <td>93.888889</td>\n",
       "      <td>...</td>\n",
       "      <td>602671.0</td>\n",
       "      <td>907502.0</td>\n",
       "      <td>True</td>\n",
       "      <td>985032.0</td>\n",
       "      <td>0.0</td>\n",
       "      <td>224305.0</td>\n",
       "      <td>1459.0</td>\n",
       "      <td>1995.666667</td>\n",
       "      <td>2652612.0</td>\n",
       "      <td>985032.0</td>\n",
       "    </tr>\n",
       "    <tr>\n",
       "      <th>4</th>\n",
       "      <td>CALGER CHRISTOPHER F</td>\n",
       "      <td>1250000.0</td>\n",
       "      <td>0.0</td>\n",
       "      <td>-262500.0</td>\n",
       "      <td>0.0</td>\n",
       "      <td>christopher.calger@enron.com</td>\n",
       "      <td>0.0</td>\n",
       "      <td>35818.0</td>\n",
       "      <td>144.000000</td>\n",
       "      <td>199.000000</td>\n",
       "      <td>...</td>\n",
       "      <td>375304.0</td>\n",
       "      <td>486.0</td>\n",
       "      <td>True</td>\n",
       "      <td>126027.0</td>\n",
       "      <td>0.0</td>\n",
       "      <td>240189.0</td>\n",
       "      <td>2188.0</td>\n",
       "      <td>2598.000000</td>\n",
       "      <td>1639297.0</td>\n",
       "      <td>126027.0</td>\n",
       "    </tr>\n",
       "  </tbody>\n",
       "</table>\n",
       "<p>5 rows × 22 columns</p>\n",
       "</div>"
      ],
      "text/plain": [
       "                   name      bonus  deferral_payments  deferred_income  \\\n",
       "0        RICE KENNETH D  1750000.0                0.0       -3504386.0   \n",
       "1    SKILLING JEFFREY K  5600000.0                0.0              0.0   \n",
       "2            SHELBY REX   200000.0                0.0          -4167.0   \n",
       "3      KOPPER MICHAEL J   800000.0                0.0              0.0   \n",
       "4  CALGER CHRISTOPHER F  1250000.0                0.0        -262500.0   \n",
       "\n",
       "   director_fees                 email_address  exercised_stock_options  \\\n",
       "0            0.0            ken.rice@enron.com               19794175.0   \n",
       "1            0.0       jeff.skilling@enron.com               19250000.0   \n",
       "2            0.0          rex.shelby@enron.com                1624396.0   \n",
       "3            0.0      michael.kopper@enron.com                      0.0   \n",
       "4            0.0  christopher.calger@enron.com                      0.0   \n",
       "\n",
       "   expenses  from_messages  from_poi_to_this_person  ...  long_term_incentive  \\\n",
       "0   46950.0      18.000000                42.000000  ...            1617011.0   \n",
       "1   29336.0     108.000000                88.000000  ...            1920000.0   \n",
       "2   22884.0      39.000000                13.000000  ...                  0.0   \n",
       "3  118134.0      60.444444                93.888889  ...             602671.0   \n",
       "4   35818.0     144.000000               199.000000  ...             375304.0   \n",
       "\n",
       "       other   poi  restricted_stock  restricted_stock_deferred     salary  \\\n",
       "0   174839.0  True         2748364.0                        0.0   420636.0   \n",
       "1    22122.0  True         6843672.0                        0.0  1111258.0   \n",
       "2  1573324.0  True          869220.0                        0.0   211844.0   \n",
       "3   907502.0  True          985032.0                        0.0   224305.0   \n",
       "4      486.0  True          126027.0                        0.0   240189.0   \n",
       "\n",
       "   shared_receipt_with_poi  to_messages  total_payments  total_stock_value  \n",
       "0                    864.0   905.000000        505050.0         22542539.0  \n",
       "1                   2042.0  3627.000000       8682716.0         26093672.0  \n",
       "2                     91.0   225.000000       2003885.0          2493616.0  \n",
       "3                   1459.0  1995.666667       2652612.0           985032.0  \n",
       "4                   2188.0  2598.000000       1639297.0           126027.0  \n",
       "\n",
       "[5 rows x 22 columns]"
      ]
     },
     "execution_count": 34,
     "metadata": {},
     "output_type": "execute_result"
    }
   ],
   "source": [
    "from sklearn.impute import SimpleImputer\n",
    "imputer = SimpleImputer(strategy = 'mean')\n",
    "\n",
    "df_poi = data[data['poi'] == True].copy()\n",
    "df_nonpoi = data[data['poi']==False].copy()\n",
    "\n",
    "df_poi[email_col] = imputer.fit_transform(data[email_col][data['poi']==True]).copy()\n",
    "df_nonpoi[email_col] = imputer.fit_transform(data[email_col][data['poi']==False]).copy()\n",
    "data = df_poi.append(df_nonpoi).copy()\n",
    "data.head()"
   ]
  },
  {
   "cell_type": "code",
   "execution_count": 35,
   "metadata": {},
   "outputs": [
    {
     "data": {
      "text/html": [
       "<div>\n",
       "<style scoped>\n",
       "    .dataframe tbody tr th:only-of-type {\n",
       "        vertical-align: middle;\n",
       "    }\n",
       "\n",
       "    .dataframe tbody tr th {\n",
       "        vertical-align: top;\n",
       "    }\n",
       "\n",
       "    .dataframe thead th {\n",
       "        text-align: right;\n",
       "    }\n",
       "</style>\n",
       "<table border=\"1\" class=\"dataframe\">\n",
       "  <thead>\n",
       "    <tr style=\"text-align: right;\">\n",
       "      <th></th>\n",
       "      <th>bonus</th>\n",
       "      <th>deferral_payments</th>\n",
       "      <th>deferred_income</th>\n",
       "      <th>director_fees</th>\n",
       "      <th>exercised_stock_options</th>\n",
       "      <th>expenses</th>\n",
       "      <th>from_messages</th>\n",
       "      <th>from_poi_to_this_person</th>\n",
       "      <th>from_this_person_to_poi</th>\n",
       "      <th>loan_advances</th>\n",
       "      <th>long_term_incentive</th>\n",
       "      <th>other</th>\n",
       "      <th>restricted_stock</th>\n",
       "      <th>restricted_stock_deferred</th>\n",
       "      <th>salary</th>\n",
       "      <th>shared_receipt_with_poi</th>\n",
       "      <th>to_messages</th>\n",
       "      <th>total_payments</th>\n",
       "      <th>total_stock_value</th>\n",
       "    </tr>\n",
       "  </thead>\n",
       "  <tbody>\n",
       "    <tr>\n",
       "      <th>count</th>\n",
       "      <td>1.130000e+02</td>\n",
       "      <td>1.130000e+02</td>\n",
       "      <td>1.130000e+02</td>\n",
       "      <td>113.000000</td>\n",
       "      <td>1.130000e+02</td>\n",
       "      <td>113.000000</td>\n",
       "      <td>113.000000</td>\n",
       "      <td>113.000000</td>\n",
       "      <td>113.000000</td>\n",
       "      <td>1.130000e+02</td>\n",
       "      <td>1.130000e+02</td>\n",
       "      <td>1.130000e+02</td>\n",
       "      <td>1.130000e+02</td>\n",
       "      <td>113.000000</td>\n",
       "      <td>1.130000e+02</td>\n",
       "      <td>113.000000</td>\n",
       "      <td>113.000000</td>\n",
       "      <td>1.130000e+02</td>\n",
       "      <td>1.130000e+02</td>\n",
       "    </tr>\n",
       "    <tr>\n",
       "      <th>mean</th>\n",
       "      <td>6.194126e+05</td>\n",
       "      <td>1.572057e+05</td>\n",
       "      <td>-1.391793e+05</td>\n",
       "      <td>10284.707965</td>\n",
       "      <td>2.139748e+06</td>\n",
       "      <td>32973.097345</td>\n",
       "      <td>729.014468</td>\n",
       "      <td>64.009341</td>\n",
       "      <td>40.671653</td>\n",
       "      <td>7.250000e+05</td>\n",
       "      <td>3.437012e+05</td>\n",
       "      <td>2.730552e+05</td>\n",
       "      <td>9.396291e+05</td>\n",
       "      <td>-19635.902655</td>\n",
       "      <td>1.769459e+05</td>\n",
       "      <td>1101.920354</td>\n",
       "      <td>2160.421197</td>\n",
       "      <td>2.201184e+06</td>\n",
       "      <td>3.058932e+06</td>\n",
       "    </tr>\n",
       "    <tr>\n",
       "      <th>std</th>\n",
       "      <td>1.242456e+06</td>\n",
       "      <td>5.041240e+05</td>\n",
       "      <td>4.883707e+05</td>\n",
       "      <td>31658.955219</td>\n",
       "      <td>5.251192e+06</td>\n",
       "      <td>45358.746287</td>\n",
       "      <td>1574.255075</td>\n",
       "      <td>69.716394</td>\n",
       "      <td>67.355471</td>\n",
       "      <td>7.668983e+06</td>\n",
       "      <td>7.367731e+05</td>\n",
       "      <td>1.068036e+06</td>\n",
       "      <td>2.202460e+06</td>\n",
       "      <td>85965.881870</td>\n",
       "      <td>1.904034e+05</td>\n",
       "      <td>884.389112</td>\n",
       "      <td>2125.700846</td>\n",
       "      <td>9.775920e+06</td>\n",
       "      <td>6.791932e+06</td>\n",
       "    </tr>\n",
       "    <tr>\n",
       "      <th>min</th>\n",
       "      <td>0.000000e+00</td>\n",
       "      <td>-1.025000e+05</td>\n",
       "      <td>-3.504386e+06</td>\n",
       "      <td>0.000000</td>\n",
       "      <td>0.000000e+00</td>\n",
       "      <td>0.000000</td>\n",
       "      <td>12.000000</td>\n",
       "      <td>0.000000</td>\n",
       "      <td>0.000000</td>\n",
       "      <td>0.000000e+00</td>\n",
       "      <td>0.000000e+00</td>\n",
       "      <td>0.000000e+00</td>\n",
       "      <td>0.000000e+00</td>\n",
       "      <td>-560222.000000</td>\n",
       "      <td>0.000000e+00</td>\n",
       "      <td>2.000000</td>\n",
       "      <td>57.000000</td>\n",
       "      <td>0.000000e+00</td>\n",
       "      <td>-4.409300e+04</td>\n",
       "    </tr>\n",
       "    <tr>\n",
       "      <th>25%</th>\n",
       "      <td>0.000000e+00</td>\n",
       "      <td>0.000000e+00</td>\n",
       "      <td>-2.500000e+04</td>\n",
       "      <td>0.000000</td>\n",
       "      <td>0.000000e+00</td>\n",
       "      <td>0.000000</td>\n",
       "      <td>40.000000</td>\n",
       "      <td>24.000000</td>\n",
       "      <td>5.000000</td>\n",
       "      <td>0.000000e+00</td>\n",
       "      <td>0.000000e+00</td>\n",
       "      <td>0.000000e+00</td>\n",
       "      <td>0.000000e+00</td>\n",
       "      <td>0.000000</td>\n",
       "      <td>0.000000e+00</td>\n",
       "      <td>552.000000</td>\n",
       "      <td>898.000000</td>\n",
       "      <td>8.499200e+04</td>\n",
       "      <td>2.211410e+05</td>\n",
       "    </tr>\n",
       "    <tr>\n",
       "      <th>50%</th>\n",
       "      <td>2.500000e+05</td>\n",
       "      <td>0.000000e+00</td>\n",
       "      <td>0.000000e+00</td>\n",
       "      <td>0.000000</td>\n",
       "      <td>4.934890e+05</td>\n",
       "      <td>16514.000000</td>\n",
       "      <td>556.000000</td>\n",
       "      <td>60.125000</td>\n",
       "      <td>43.517857</td>\n",
       "      <td>0.000000e+00</td>\n",
       "      <td>0.000000e+00</td>\n",
       "      <td>7.130000e+02</td>\n",
       "      <td>3.605280e+05</td>\n",
       "      <td>0.000000</td>\n",
       "      <td>1.991570e+05</td>\n",
       "      <td>1055.500000</td>\n",
       "      <td>2181.839286</td>\n",
       "      <td>9.690680e+05</td>\n",
       "      <td>8.802900e+05</td>\n",
       "    </tr>\n",
       "    <tr>\n",
       "      <th>75%</th>\n",
       "      <td>7.500000e+05</td>\n",
       "      <td>0.000000e+00</td>\n",
       "      <td>0.000000e+00</td>\n",
       "      <td>0.000000</td>\n",
       "      <td>1.624396e+06</td>\n",
       "      <td>50080.000000</td>\n",
       "      <td>815.928571</td>\n",
       "      <td>60.125000</td>\n",
       "      <td>43.517857</td>\n",
       "      <td>0.000000e+00</td>\n",
       "      <td>3.353490e+05</td>\n",
       "      <td>1.111220e+05</td>\n",
       "      <td>6.982420e+05</td>\n",
       "      <td>0.000000</td>\n",
       "      <td>2.652140e+05</td>\n",
       "      <td>1055.500000</td>\n",
       "      <td>2181.839286</td>\n",
       "      <td>1.747522e+06</td>\n",
       "      <td>2.072035e+06</td>\n",
       "    </tr>\n",
       "    <tr>\n",
       "      <th>max</th>\n",
       "      <td>8.000000e+06</td>\n",
       "      <td>2.964506e+06</td>\n",
       "      <td>0.000000e+00</td>\n",
       "      <td>125034.000000</td>\n",
       "      <td>3.434838e+07</td>\n",
       "      <td>228763.000000</td>\n",
       "      <td>14368.000000</td>\n",
       "      <td>528.000000</td>\n",
       "      <td>411.000000</td>\n",
       "      <td>8.152500e+07</td>\n",
       "      <td>5.145434e+06</td>\n",
       "      <td>1.035973e+07</td>\n",
       "      <td>1.476169e+07</td>\n",
       "      <td>44093.000000</td>\n",
       "      <td>1.111258e+06</td>\n",
       "      <td>4527.000000</td>\n",
       "      <td>15149.000000</td>\n",
       "      <td>1.035598e+08</td>\n",
       "      <td>4.911008e+07</td>\n",
       "    </tr>\n",
       "  </tbody>\n",
       "</table>\n",
       "</div>"
      ],
      "text/plain": [
       "              bonus  deferral_payments  deferred_income  director_fees  \\\n",
       "count  1.130000e+02       1.130000e+02     1.130000e+02     113.000000   \n",
       "mean   6.194126e+05       1.572057e+05    -1.391793e+05   10284.707965   \n",
       "std    1.242456e+06       5.041240e+05     4.883707e+05   31658.955219   \n",
       "min    0.000000e+00      -1.025000e+05    -3.504386e+06       0.000000   \n",
       "25%    0.000000e+00       0.000000e+00    -2.500000e+04       0.000000   \n",
       "50%    2.500000e+05       0.000000e+00     0.000000e+00       0.000000   \n",
       "75%    7.500000e+05       0.000000e+00     0.000000e+00       0.000000   \n",
       "max    8.000000e+06       2.964506e+06     0.000000e+00  125034.000000   \n",
       "\n",
       "       exercised_stock_options       expenses  from_messages  \\\n",
       "count             1.130000e+02     113.000000     113.000000   \n",
       "mean              2.139748e+06   32973.097345     729.014468   \n",
       "std               5.251192e+06   45358.746287    1574.255075   \n",
       "min               0.000000e+00       0.000000      12.000000   \n",
       "25%               0.000000e+00       0.000000      40.000000   \n",
       "50%               4.934890e+05   16514.000000     556.000000   \n",
       "75%               1.624396e+06   50080.000000     815.928571   \n",
       "max               3.434838e+07  228763.000000   14368.000000   \n",
       "\n",
       "       from_poi_to_this_person  from_this_person_to_poi  loan_advances  \\\n",
       "count               113.000000               113.000000   1.130000e+02   \n",
       "mean                 64.009341                40.671653   7.250000e+05   \n",
       "std                  69.716394                67.355471   7.668983e+06   \n",
       "min                   0.000000                 0.000000   0.000000e+00   \n",
       "25%                  24.000000                 5.000000   0.000000e+00   \n",
       "50%                  60.125000                43.517857   0.000000e+00   \n",
       "75%                  60.125000                43.517857   0.000000e+00   \n",
       "max                 528.000000               411.000000   8.152500e+07   \n",
       "\n",
       "       long_term_incentive         other  restricted_stock  \\\n",
       "count         1.130000e+02  1.130000e+02      1.130000e+02   \n",
       "mean          3.437012e+05  2.730552e+05      9.396291e+05   \n",
       "std           7.367731e+05  1.068036e+06      2.202460e+06   \n",
       "min           0.000000e+00  0.000000e+00      0.000000e+00   \n",
       "25%           0.000000e+00  0.000000e+00      0.000000e+00   \n",
       "50%           0.000000e+00  7.130000e+02      3.605280e+05   \n",
       "75%           3.353490e+05  1.111220e+05      6.982420e+05   \n",
       "max           5.145434e+06  1.035973e+07      1.476169e+07   \n",
       "\n",
       "       restricted_stock_deferred        salary  shared_receipt_with_poi  \\\n",
       "count                 113.000000  1.130000e+02               113.000000   \n",
       "mean               -19635.902655  1.769459e+05              1101.920354   \n",
       "std                 85965.881870  1.904034e+05               884.389112   \n",
       "min               -560222.000000  0.000000e+00                 2.000000   \n",
       "25%                     0.000000  0.000000e+00               552.000000   \n",
       "50%                     0.000000  1.991570e+05              1055.500000   \n",
       "75%                     0.000000  2.652140e+05              1055.500000   \n",
       "max                 44093.000000  1.111258e+06              4527.000000   \n",
       "\n",
       "        to_messages  total_payments  total_stock_value  \n",
       "count    113.000000    1.130000e+02       1.130000e+02  \n",
       "mean    2160.421197    2.201184e+06       3.058932e+06  \n",
       "std     2125.700846    9.775920e+06       6.791932e+06  \n",
       "min       57.000000    0.000000e+00      -4.409300e+04  \n",
       "25%      898.000000    8.499200e+04       2.211410e+05  \n",
       "50%     2181.839286    9.690680e+05       8.802900e+05  \n",
       "75%     2181.839286    1.747522e+06       2.072035e+06  \n",
       "max    15149.000000    1.035598e+08       4.911008e+07  "
      ]
     },
     "execution_count": 35,
     "metadata": {},
     "output_type": "execute_result"
    }
   ],
   "source": [
    "data.describe()"
   ]
  },
  {
   "cell_type": "markdown",
   "metadata": {},
   "source": [
    "At the first glimpse about the description of the dataset, it is possible to realize that many columns display the signs of extreme values. For example, 75% of \"from_message\" data are lower and equal to 215. Nevertheless, its maximum value is 14368. This could be very suspicious and good factors for our predictive models."
   ]
  },
  {
   "cell_type": "markdown",
   "metadata": {},
   "source": [
    "# 2. Deal with outliers"
   ]
  },
  {
   "cell_type": "markdown",
   "metadata": {},
   "source": [
    "In order to find out the outlier records, I would use quantile method to count the number of outlier features for each record. In my assumption, it is fine for person of interest to have extreme values since it can be good signs for recognizing poi. \n",
    "\n",
    "On the other hand, the person who is not the person of interest but has too many extreme values may mislead the model. Therefore, I would like to remove them from the dataset."
   ]
  },
  {
   "cell_type": "code",
   "execution_count": 36,
   "metadata": {},
   "outputs": [
    {
     "data": {
      "text/html": [
       "<div>\n",
       "<style scoped>\n",
       "    .dataframe tbody tr th:only-of-type {\n",
       "        vertical-align: middle;\n",
       "    }\n",
       "\n",
       "    .dataframe tbody tr th {\n",
       "        vertical-align: top;\n",
       "    }\n",
       "\n",
       "    .dataframe thead th {\n",
       "        text-align: right;\n",
       "    }\n",
       "</style>\n",
       "<table border=\"1\" class=\"dataframe\">\n",
       "  <thead>\n",
       "    <tr style=\"text-align: right;\">\n",
       "      <th></th>\n",
       "      <th>number_of_outlier_features</th>\n",
       "      <th>name</th>\n",
       "      <th>poi</th>\n",
       "    </tr>\n",
       "  </thead>\n",
       "  <tbody>\n",
       "    <tr>\n",
       "      <th>8</th>\n",
       "      <td>15</td>\n",
       "      <td>LAY KENNETH L</td>\n",
       "      <td>True</td>\n",
       "    </tr>\n",
       "    <tr>\n",
       "      <th>33</th>\n",
       "      <td>10</td>\n",
       "      <td>LAVORATO JOHN J</td>\n",
       "      <td>False</td>\n",
       "    </tr>\n",
       "    <tr>\n",
       "      <th>1</th>\n",
       "      <td>9</td>\n",
       "      <td>SKILLING JEFFREY K</td>\n",
       "      <td>True</td>\n",
       "    </tr>\n",
       "    <tr>\n",
       "      <th>47</th>\n",
       "      <td>8</td>\n",
       "      <td>WHALLEY LAWRENCE G</td>\n",
       "      <td>False</td>\n",
       "    </tr>\n",
       "    <tr>\n",
       "      <th>58</th>\n",
       "      <td>8</td>\n",
       "      <td>BAXTER JOHN C</td>\n",
       "      <td>False</td>\n",
       "    </tr>\n",
       "    <tr>\n",
       "      <th>87</th>\n",
       "      <td>7</td>\n",
       "      <td>KEAN STEVEN J</td>\n",
       "      <td>False</td>\n",
       "    </tr>\n",
       "    <tr>\n",
       "      <th>0</th>\n",
       "      <td>6</td>\n",
       "      <td>RICE KENNETH D</td>\n",
       "      <td>True</td>\n",
       "    </tr>\n",
       "    <tr>\n",
       "      <th>68</th>\n",
       "      <td>6</td>\n",
       "      <td>HAEDICKE MARK E</td>\n",
       "      <td>False</td>\n",
       "    </tr>\n",
       "    <tr>\n",
       "      <th>14</th>\n",
       "      <td>6</td>\n",
       "      <td>ALLEN PHILLIP K</td>\n",
       "      <td>False</td>\n",
       "    </tr>\n",
       "    <tr>\n",
       "      <th>63</th>\n",
       "      <td>5</td>\n",
       "      <td>BECK SALLY W</td>\n",
       "      <td>False</td>\n",
       "    </tr>\n",
       "    <tr>\n",
       "      <th>26</th>\n",
       "      <td>5</td>\n",
       "      <td>KITCHEN LOUISE</td>\n",
       "      <td>False</td>\n",
       "    </tr>\n",
       "    <tr>\n",
       "      <th>59</th>\n",
       "      <td>5</td>\n",
       "      <td>BUY RICHARD B</td>\n",
       "      <td>False</td>\n",
       "    </tr>\n",
       "  </tbody>\n",
       "</table>\n",
       "</div>"
      ],
      "text/plain": [
       "    number_of_outlier_features                name    poi\n",
       "8                           15       LAY KENNETH L   True\n",
       "33                          10     LAVORATO JOHN J  False\n",
       "1                            9  SKILLING JEFFREY K   True\n",
       "47                           8  WHALLEY LAWRENCE G  False\n",
       "58                           8       BAXTER JOHN C  False\n",
       "87                           7       KEAN STEVEN J  False\n",
       "0                            6      RICE KENNETH D   True\n",
       "68                           6     HAEDICKE MARK E  False\n",
       "14                           6     ALLEN PHILLIP K  False\n",
       "63                           5        BECK SALLY W  False\n",
       "26                           5      KITCHEN LOUISE  False\n",
       "59                           5       BUY RICHARD B  False"
      ]
     },
     "execution_count": 36,
     "metadata": {},
     "output_type": "execute_result"
    }
   ],
   "source": [
    "IQR = data.quantile(q=0.75) - data.quantile(q=0.25)\n",
    "first_quartile = data.quantile(q=0.25)\n",
    "third_quartile = data.quantile(q=0.75)\n",
    "outliers = pd.DataFrame()\n",
    "# count outlier features\n",
    "outliers['number_of_outlier_features'] = data.iloc[:,1:][(data>(third_quartile + 1.5*IQR) ) | (data<(first_quartile - 1.5*IQR) )].count(axis=1)\n",
    "outliers['name'] = data['name']\n",
    "outliers['poi'] = data['poi']\n",
    "outliers.sort_values('number_of_outlier_features',ascending = False, inplace = True)\n",
    "outliers.head(12)"
   ]
  },
  {
   "cell_type": "markdown",
   "metadata": {},
   "source": [
    "Based on the table above, I decided to remove 4 records, 'LAVORATO JOHN J', 'WHALLEY LAWRENCE G', 'BAXTER JOHN C', and 'KEAN STEVEN J', because they are special cases that normal people have too many extreme values. It is possible to assume that they cannot represent the majority. \n",
    "\n",
    "The reason that I only removed four records is because I would like to keep records as many as possible since the dataset is already quite small. Removing all normal people that have outliers may make the dataset smaller and influence the effectiveness of the model (the size of dataset has positive relation with accuracy of the model)."
   ]
  },
  {
   "cell_type": "code",
   "execution_count": 37,
   "metadata": {},
   "outputs": [],
   "source": [
    "data.drop(data[data['name']=='LAVORATO JOHN J'].index ,inplace = True)\n",
    "data.drop(data[data['name']=='WHALLEY LAWRENCE G'].index ,inplace = True)\n",
    "data.drop(data[data['name']=='BAXTER JOHN C'].index ,inplace = True)\n",
    "data.drop(data[data['name']=='KEAN STEVEN J'].index ,inplace = True)"
   ]
  },
  {
   "cell_type": "markdown",
   "metadata": {},
   "source": [
    "# 3. Feature Engineering"
   ]
  },
  {
   "cell_type": "markdown",
   "metadata": {},
   "source": [
    "The first observation came to me is that there are many email addresses missed. I couldn't help but start wonder if it has any relationship with being person of interest. Therefore, I decided to exam how much percentage of empty email addresses people of interest account for."
   ]
  },
  {
   "cell_type": "code",
   "execution_count": 38,
   "metadata": {},
   "outputs": [
    {
     "name": "stdout",
     "output_type": "stream",
     "text": [
      "0 percent of empty emails are from poi\n"
     ]
    }
   ],
   "source": [
    "ratio_of_empty_address_poi=len(data[(data['email_address'].isnull())&(data['poi']==True)])/(data['email_address'].isnull()).sum()\n",
    "\n",
    "print(\"%d percent of empty emails are from poi\" % ratio_of_empty_address_poi)"
   ]
  },
  {
   "cell_type": "markdown",
   "metadata": {},
   "source": [
    "As we can see, there are 0 empty email address in people of interest. Accordingly, \"email_address\" may be a good feature to distinguish between person of interest and normal person.\n",
    "\n",
    "I decide to convert 'email_address' to categorical data to divide the records into \"has_email_address\" and \"not_has_email_address\"."
   ]
  },
  {
   "cell_type": "code",
   "execution_count": 39,
   "metadata": {},
   "outputs": [],
   "source": [
    "has_email =[]\n",
    "\n",
    "for i in data['email_address']:\n",
    "    if pd.isnull(i):\n",
    "        has_email.append(0)\n",
    "    else:\n",
    "        has_email.append(1)\n",
    "        \n",
    "data['email_address'] = has_email"
   ]
  },
  {
   "cell_type": "markdown",
   "metadata": {},
   "source": [
    "After reading the case of Eron, I have a theory that person of interest could receive more bonus. As a result, I determined to create two new features: bonus/salary and bonus/total_payment. \n",
    "\n",
    "The reason that I make bonus divided by salary and total payment respectively is because it does not make much sense to compare bonus directly since the amount of salary could affect the amount of bonus and each individual can have distinct level of salary. Accordingly, making the ratios of bonus to salary and bonus to total payment can standardize the data and alleviate the influence of individual differences."
   ]
  },
  {
   "cell_type": "code",
   "execution_count": 40,
   "metadata": {},
   "outputs": [
    {
     "data": {
      "image/png": "[encoded data removed]",
      "text/plain": [
       "<Figure size 432x288 with 1 Axes>"
      ]
     },
     "metadata": {
      "needs_background": "light"
     },
     "output_type": "display_data"
    }
   ],
   "source": [
    "data['rate_of_bonus_to_salary'] = data['bonus']/data['salary']\n",
    "data.groupby('poi', as_index = False).agg('mean').plot.bar(x='poi', y='rate_of_bonus_to_salary')\n",
    "plt.show()"
   ]
  },
  {
   "cell_type": "code",
   "execution_count": 41,
   "metadata": {},
   "outputs": [
    {
     "data": {
      "image/png": "[encoded data removed]",
      "text/plain": [
       "<Figure size 432x288 with 1 Axes>"
      ]
     },
     "metadata": {
      "needs_background": "light"
     },
     "output_type": "display_data"
    }
   ],
   "source": [
    "data['rate_of_bonus_to_totalPayment'] = data['bonus']/data['total_payments']\n",
    "data.groupby('poi', as_index = False).agg('mean').plot.bar(x='poi', y='rate_of_bonus_to_totalPayment')\n",
    "plt.show()"
   ]
  },
  {
   "cell_type": "markdown",
   "metadata": {},
   "source": [
    "As we can see from above graphs, two groups indicate obvious differences in ratio of bonus to total payment and ratio of bonus to salary."
   ]
  },
  {
   "cell_type": "markdown",
   "metadata": {},
   "source": [
    "Furthermore, my instinct tells me that people who have many email interactions with person of interest have high possibility to also be people of interest. Consequently, I would create three new features to evaluate the level of email interaction that each person has with person of interest."
   ]
  },
  {
   "cell_type": "code",
   "execution_count": 42,
   "metadata": {},
   "outputs": [],
   "source": [
    "data['rate_of_from_poi_to_totalEmail']=data['from_poi_to_this_person']/data['to_messages']\n",
    "data['rate_of_to_poi_to_totalEmail'] = data['from_this_person_to_poi']/data['from_messages']\n",
    "data['rate_of_from_poi_to_share'] = data['shared_receipt_with_poi']/data['to_messages']\n",
    "data.drop('name',axis=1,inplace=True)"
   ]
  },
  {
   "cell_type": "markdown",
   "metadata": {},
   "source": [
    "Conclusion, in this section, five new feautures have been created: rate_of_bonus_to_totalPayment, rate_of_bonus_to_salary, email_address, rate_of_to_poi_to_totalEmail, and rate_of_from_poi_to_totalEmail."
   ]
  },
  {
   "cell_type": "markdown",
   "metadata": {},
   "source": [
    "# 4. Feature Selection"
   ]
  },
  {
   "cell_type": "markdown",
   "metadata": {},
   "source": [
    "Here, except using the features I just created in the previous, I may also need to include other features in the model. In order to decide which feature to contain, I will start conducting feature selection.\n",
    "\n",
    "But first, let's standardize the whole numeric data since different features have different ranges of values. By standardizing the data, we can make the whole numbers be between 0 and 1. Standardizing the range of numeric data can make the model process more smoothly."
   ]
  },
  {
   "cell_type": "code",
   "execution_count": 43,
   "metadata": {},
   "outputs": [
    {
     "name": "stderr",
     "output_type": "stream",
     "text": [
      "/Users/tony51307/Library/Python/3.7/lib/python/site-packages/sklearn/preprocessing/data.py:334: DataConversionWarning: Data with input dtype int64, float64 were all converted to float64 by MinMaxScaler.\n",
      "  return self.partial_fit(X, y)\n"
     ]
    }
   ],
   "source": [
    "from sklearn.preprocessing import MinMaxScaler\n",
    "train = data.drop('poi',axis=1).copy()\n",
    "target = data['poi']\n",
    "\n",
    "scaler = MinMaxScaler()\n",
    "\n",
    "train = pd.DataFrame(scaler.fit_transform(train),columns=train.columns)\n",
    "train.fillna(0,inplace = True)"
   ]
  },
  {
   "cell_type": "markdown",
   "metadata": {},
   "source": [
    "After having the data standardized, I would like to use Random Forest Classifier to exam the importance of each feature."
   ]
  },
  {
   "cell_type": "code",
   "execution_count": 49,
   "metadata": {},
   "outputs": [
    {
     "name": "stderr",
     "output_type": "stream",
     "text": [
      "/Users/tony51307/Library/Python/3.7/lib/python/site-packages/sklearn/ensemble/forest.py:246: FutureWarning: The default value of n_estimators will change from 10 in version 0.20 to 100 in 0.22.\n",
      "  \"10 in version 0.20 to 100 in 0.22.\", FutureWarning)\n"
     ]
    },
    {
     "data": {
      "text/plain": [
       "rate_of_to_poi_to_totalEmail      0.241131\n",
       "shared_receipt_with_poi           0.114242\n",
       "total_stock_value                 0.097581\n",
       "other                             0.075644\n",
       "bonus                             0.073409\n",
       "from_messages                     0.067393\n",
       "deferred_income                   0.052665\n",
       "rate_of_from_poi_to_totalEmail    0.047954\n",
       "rate_of_from_poi_to_share         0.040341\n",
       "exercised_stock_options           0.033185\n",
       "restricted_stock                  0.031244\n",
       "expenses                          0.027284\n",
       "long_term_incentive               0.024476\n",
       "total_payments                    0.020809\n",
       "to_messages                       0.016303\n",
       "from_this_person_to_poi           0.012478\n",
       "rate_of_bonus_to_salary           0.011947\n",
       "from_poi_to_this_person           0.010098\n",
       "salary                            0.001817\n",
       "loan_advances                     0.000000\n",
       "restricted_stock_deferred         0.000000\n",
       "email_address                     0.000000\n",
       "director_fees                     0.000000\n",
       "rate_of_bonus_to_totalPayment     0.000000\n",
       "deferral_payments                 0.000000\n",
       "dtype: float64"
      ]
     },
     "execution_count": 49,
     "metadata": {},
     "output_type": "execute_result"
    }
   ],
   "source": [
    "from sklearn.ensemble import RandomForestClassifier\n",
    "estimator = RandomForestClassifier()\n",
    "estimator.fit(train.values, target)\n",
    "feats = pd.Series(data=estimator.feature_importances_, index=train.columns) # display their importance\n",
    "feats = feats.sort_values(ascending=False)\n",
    "feats"
   ]
  },
  {
   "cell_type": "markdown",
   "metadata": {},
   "source": [
    "By looking at the resultant feature importance, we can realize that there are a few features (including 'email_address') having no contribution in the predicting process. Therefore, these features should be removed for good.\n",
    "\n",
    "Moreover, we can discover that 'shared_receipt_with_poi' ranks very high in feature importance. Based on this fact, 'shared_receipt_with_poi' will participate in the model."
   ]
  },
  {
   "cell_type": "markdown",
   "metadata": {},
   "source": [
    "Next, instead of picking featurers manually, I would use SelectKBest to decide the top 3 features I must include in the mode.\n",
    "\n",
    "The f-score value from the SelectKBest means the level of difference in the features between people of interest and normal people. P-value lets us know that how confident we can be to believe that two groups are indeed different. If the f-score is sufficiently high and p-value is lower than 0.05, we can believe this feature has dependence on our target variable."
   ]
  },
  {
   "cell_type": "code",
   "execution_count": 50,
   "metadata": {},
   "outputs": [
    {
     "name": "stdout",
     "output_type": "stream",
     "text": [
      "(109, 3)\n",
      "['exercised_stock_options', 'total_stock_value', 'rate_of_to_poi_to_totalEmail']\n"
     ]
    }
   ],
   "source": [
    "from sklearn.feature_selection import SelectKBest\n",
    "selector = SelectKBest(k=3)\n",
    "selector.fit(train, target)\n",
    "selected_features = selector.transform(train)\n",
    "print(selected_features.shape)\n",
    "# 1st way to get the list\n",
    "vector_names = list(train.columns[selector.get_support(indices=True)])\n",
    "print(vector_names)"
   ]
  },
  {
   "cell_type": "code",
   "execution_count": 51,
   "metadata": {},
   "outputs": [
    {
     "data": {
      "text/html": [
       "<div>\n",
       "<style scoped>\n",
       "    .dataframe tbody tr th:only-of-type {\n",
       "        vertical-align: middle;\n",
       "    }\n",
       "\n",
       "    .dataframe tbody tr th {\n",
       "        vertical-align: top;\n",
       "    }\n",
       "\n",
       "    .dataframe thead th {\n",
       "        text-align: right;\n",
       "    }\n",
       "</style>\n",
       "<table border=\"1\" class=\"dataframe\">\n",
       "  <thead>\n",
       "    <tr style=\"text-align: right;\">\n",
       "      <th></th>\n",
       "      <th>F-score</th>\n",
       "      <th>P-value</th>\n",
       "    </tr>\n",
       "  </thead>\n",
       "  <tbody>\n",
       "    <tr>\n",
       "      <th>exercised_stock_options</th>\n",
       "      <td>32.031922</td>\n",
       "      <td>1.282246e-07</td>\n",
       "    </tr>\n",
       "    <tr>\n",
       "      <th>total_stock_value</th>\n",
       "      <td>30.224188</td>\n",
       "      <td>2.637152e-07</td>\n",
       "    </tr>\n",
       "    <tr>\n",
       "      <th>rate_of_to_poi_to_totalEmail</th>\n",
       "      <td>27.267326</td>\n",
       "      <td>8.781468e-07</td>\n",
       "    </tr>\n",
       "    <tr>\n",
       "      <th>salary</th>\n",
       "      <td>23.077020</td>\n",
       "      <td>5.095517e-06</td>\n",
       "    </tr>\n",
       "    <tr>\n",
       "      <th>bonus</th>\n",
       "      <td>20.560525</td>\n",
       "      <td>1.513737e-05</td>\n",
       "    </tr>\n",
       "    <tr>\n",
       "      <th>rate_of_from_poi_to_share</th>\n",
       "      <td>13.931953</td>\n",
       "      <td>3.055143e-04</td>\n",
       "    </tr>\n",
       "    <tr>\n",
       "      <th>rate_of_bonus_to_totalPayment</th>\n",
       "      <td>10.729307</td>\n",
       "      <td>1.421616e-03</td>\n",
       "    </tr>\n",
       "    <tr>\n",
       "      <th>restricted_stock</th>\n",
       "      <td>10.515321</td>\n",
       "      <td>1.579257e-03</td>\n",
       "    </tr>\n",
       "    <tr>\n",
       "      <th>total_payments</th>\n",
       "      <td>9.672582</td>\n",
       "      <td>2.397500e-03</td>\n",
       "    </tr>\n",
       "    <tr>\n",
       "      <th>other</th>\n",
       "      <td>9.358880</td>\n",
       "      <td>2.804542e-03</td>\n",
       "    </tr>\n",
       "    <tr>\n",
       "      <th>loan_advances</th>\n",
       "      <td>7.842576</td>\n",
       "      <td>6.056535e-03</td>\n",
       "    </tr>\n",
       "    <tr>\n",
       "      <th>expenses</th>\n",
       "      <td>7.653856</td>\n",
       "      <td>6.675618e-03</td>\n",
       "    </tr>\n",
       "    <tr>\n",
       "      <th>from_poi_to_this_person</th>\n",
       "      <td>7.139157</td>\n",
       "      <td>8.721258e-03</td>\n",
       "    </tr>\n",
       "    <tr>\n",
       "      <th>long_term_incentive</th>\n",
       "      <td>6.707948</td>\n",
       "      <td>1.093469e-02</td>\n",
       "    </tr>\n",
       "    <tr>\n",
       "      <th>deferred_income</th>\n",
       "      <td>6.279280</td>\n",
       "      <td>1.372151e-02</td>\n",
       "    </tr>\n",
       "    <tr>\n",
       "      <th>email_address</th>\n",
       "      <td>5.523620</td>\n",
       "      <td>2.059468e-02</td>\n",
       "    </tr>\n",
       "    <tr>\n",
       "      <th>rate_of_from_poi_to_totalEmail</th>\n",
       "      <td>5.395371</td>\n",
       "      <td>2.208202e-02</td>\n",
       "    </tr>\n",
       "    <tr>\n",
       "      <th>shared_receipt_with_poi</th>\n",
       "      <td>4.779746</td>\n",
       "      <td>3.097503e-02</td>\n",
       "    </tr>\n",
       "    <tr>\n",
       "      <th>rate_of_bonus_to_salary</th>\n",
       "      <td>4.377039</td>\n",
       "      <td>3.879206e-02</td>\n",
       "    </tr>\n",
       "    <tr>\n",
       "      <th>from_messages</th>\n",
       "      <td>2.427377</td>\n",
       "      <td>1.221852e-01</td>\n",
       "    </tr>\n",
       "    <tr>\n",
       "      <th>director_fees</th>\n",
       "      <td>1.630144</td>\n",
       "      <td>2.044471e-01</td>\n",
       "    </tr>\n",
       "    <tr>\n",
       "      <th>from_this_person_to_poi</th>\n",
       "      <td>1.552579</td>\n",
       "      <td>2.154764e-01</td>\n",
       "    </tr>\n",
       "    <tr>\n",
       "      <th>restricted_stock_deferred</th>\n",
       "      <td>0.798151</td>\n",
       "      <td>3.736518e-01</td>\n",
       "    </tr>\n",
       "    <tr>\n",
       "      <th>deferral_payments</th>\n",
       "      <td>0.791022</td>\n",
       "      <td>3.757865e-01</td>\n",
       "    </tr>\n",
       "    <tr>\n",
       "      <th>to_messages</th>\n",
       "      <td>0.000991</td>\n",
       "      <td>9.749476e-01</td>\n",
       "    </tr>\n",
       "  </tbody>\n",
       "</table>\n",
       "</div>"
      ],
      "text/plain": [
       "                                  F-score       P-value\n",
       "exercised_stock_options         32.031922  1.282246e-07\n",
       "total_stock_value               30.224188  2.637152e-07\n",
       "rate_of_to_poi_to_totalEmail    27.267326  8.781468e-07\n",
       "salary                          23.077020  5.095517e-06\n",
       "bonus                           20.560525  1.513737e-05\n",
       "rate_of_from_poi_to_share       13.931953  3.055143e-04\n",
       "rate_of_bonus_to_totalPayment   10.729307  1.421616e-03\n",
       "restricted_stock                10.515321  1.579257e-03\n",
       "total_payments                   9.672582  2.397500e-03\n",
       "other                            9.358880  2.804542e-03\n",
       "loan_advances                    7.842576  6.056535e-03\n",
       "expenses                         7.653856  6.675618e-03\n",
       "from_poi_to_this_person          7.139157  8.721258e-03\n",
       "long_term_incentive              6.707948  1.093469e-02\n",
       "deferred_income                  6.279280  1.372151e-02\n",
       "email_address                    5.523620  2.059468e-02\n",
       "rate_of_from_poi_to_totalEmail   5.395371  2.208202e-02\n",
       "shared_receipt_with_poi          4.779746  3.097503e-02\n",
       "rate_of_bonus_to_salary          4.377039  3.879206e-02\n",
       "from_messages                    2.427377  1.221852e-01\n",
       "director_fees                    1.630144  2.044471e-01\n",
       "from_this_person_to_poi          1.552579  2.154764e-01\n",
       "restricted_stock_deferred        0.798151  3.736518e-01\n",
       "deferral_payments                0.791022  3.757865e-01\n",
       "to_messages                      0.000991  9.749476e-01"
      ]
     },
     "execution_count": 51,
     "metadata": {},
     "output_type": "execute_result"
    }
   ],
   "source": [
    "select = SelectKBest(k=3).fit(train, target)\n",
    "bestK = pd.DataFrame()\n",
    "bestK['F-score'] = select.scores_\n",
    "bestK['P-value'] = select.pvalues_\n",
    "bestK.index = train.columns\n",
    "bestK.sort_values('F-score', ascending= False, inplace=True)\n",
    "bestK"
   ]
  },
  {
   "cell_type": "markdown",
   "metadata": {},
   "source": [
    "The result shows that 'rate_of_to_poi_to_totalEmail', 'exercised_stock_options', and 'total_stock_value' are the top 3 features to be in the model. Hence, I would include 'exercised_stock_options' and 'total_stock_value' in the prediction."
   ]
  },
  {
   "cell_type": "markdown",
   "metadata": {},
   "source": [
    "In conclusion, 'rate_of_bonus_to_salary','rate_of_from_poi_to_totalEmail', 'rate_of_bonus_to_totalPayment','rate_of_from_poi_to_share', 'rate_of_to_poi_to_totalEmail','shared_receipt_with_poi', and 'exercised_stock_options','total_stock_value' will be implemented in the model."
   ]
  },
  {
   "cell_type": "code",
   "execution_count": 52,
   "metadata": {},
   "outputs": [],
   "source": [
    "used_features = ['rate_of_bonus_to_salary','rate_of_from_poi_to_totalEmail',\n",
    "                 'rate_of_bonus_to_totalPayment','rate_of_from_poi_to_share',\n",
    "                 'rate_of_to_poi_to_totalEmail','shared_receipt_with_poi',\n",
    "                 'exercised_stock_options','total_stock_value']\n",
    "train = train[used_features].copy()\n"
   ]
  },
  {
   "cell_type": "markdown",
   "metadata": {},
   "source": [
    "# 5. Tune Hyperparameters  and Train Model"
   ]
  },
  {
   "cell_type": "markdown",
   "metadata": {},
   "source": [
    "The last thing I am going to do before training the model is to tune the parameters. Here, GridSearchCV will be used to help decide which max_depth and n_estimators can optimize the model."
   ]
  },
  {
   "cell_type": "code",
   "execution_count": 24,
   "metadata": {},
   "outputs": [
    {
     "name": "stderr",
     "output_type": "stream",
     "text": [
      "/Users/tony51307/Library/Python/3.7/lib/python/site-packages/sklearn/model_selection/_split.py:2053: FutureWarning: You should specify a value for 'cv' instead of relying on the default value. The default value will change from 3 to 5 in version 0.22.\n",
      "  warnings.warn(CV_WARNING, FutureWarning)\n",
      "[Parallel(n_jobs=-1)]: Using backend LokyBackend with 4 concurrent workers.\n"
     ]
    },
    {
     "name": "stdout",
     "output_type": "stream",
     "text": [
      "Fitting 3 folds for each of 9 candidates, totalling 27 fits\n",
      "Best F1 score: 0.355352 using {'max_depth': 3, 'n_estimators': 100}\n"
     ]
    },
    {
     "name": "stderr",
     "output_type": "stream",
     "text": [
      "[Parallel(n_jobs=-1)]: Done  27 out of  27 | elapsed:    6.6s finished\n",
      "/Users/tony51307/Library/Python/3.7/lib/python/site-packages/sklearn/model_selection/_search.py:841: DeprecationWarning: The default of the `iid` parameter will change from True to False in version 0.22 and will be removed in 0.24. This will change numeric results when test-set sizes are unequal.\n",
      "  DeprecationWarning)\n"
     ]
    }
   ],
   "source": [
    "n_estimators = [100, 200, 300]\n",
    "max_depth = [1, 3, 5]\n",
    "param_grid = dict(n_estimators=n_estimators, max_depth=max_depth)\n",
    "grid_search = GridSearchCV(estimator, param_grid, scoring=\"f1\", n_jobs=-1, verbose=1)\n",
    "\n",
    "grid_result = grid_search.fit(train, target)\n",
    "\n",
    "print(\"Best F1 score: %f using %s\" % (grid_result.best_score_, grid_result.best_params_))\n"
   ]
  },
  {
   "cell_type": "markdown",
   "metadata": {},
   "source": [
    "According to the result, the optimal setting is {'max_depth': 3, 'n_estimators': 100}. After knowing that, I can start setting the model and train it."
   ]
  },
  {
   "cell_type": "code",
   "execution_count": 28,
   "metadata": {},
   "outputs": [
    {
     "name": "stdout",
     "output_type": "stream",
     "text": [
      "Acuuracy:  0.9285714285714286\n",
      "              precision    recall  f1-score   support\n",
      "\n",
      "       False       0.93      1.00      0.96        25\n",
      "        True       1.00      0.33      0.50         3\n",
      "\n",
      "   micro avg       0.93      0.93      0.93        28\n",
      "   macro avg       0.96      0.67      0.73        28\n",
      "weighted avg       0.93      0.93      0.91        28\n",
      "\n"
     ]
    }
   ],
   "source": [
    "from sklearn.model_selection import train_test_split\n",
    "from sklearn import metrics\n",
    "\n",
    "x_train, x_test, y_train, y_test = train_test_split(train, target, test_size=0.25, random_state=4)\n",
    "estimator = RandomForestClassifier(criterion = 'entropy', max_depth = 3, n_estimators= 100)\n",
    "estimator.fit(x_train, y_train)\n",
    "y_pred = estimator.predict(x_test)\n",
    "acc = metrics.accuracy_score(y_test, y_pred)\n",
    "print(\"Acuuracy: \", acc)\n",
    "print(metrics.classification_report(y_test, y_pred))"
   ]
  },
  {
   "cell_type": "markdown",
   "metadata": {},
   "source": [
    "As we can see above, the resulted model has 1, 0.33, and 0.50 for precision, recall, and f1 score respectively. Precision means how many records that have been considered True are really True. Recall means how many records that are really True have been recognized by the model. Lastly, f1 score is the combination of the precision and recall score. The situations that precision and recall are higher than 0.3 and that f1 is 0.5 suggest that the model is acceptable. The accuracy of 0.9285 is also a good performance.\n",
    "\n",
    "In turn, this model is utilized further to predict the result of the test data."
   ]
  },
  {
   "cell_type": "code",
   "execution_count": 29,
   "metadata": {},
   "outputs": [
    {
     "data": {
      "text/plain": [
       "RandomForestClassifier(bootstrap=True, class_weight=None, criterion='gini',\n",
       "            max_depth=3, max_features='auto', max_leaf_nodes=None,\n",
       "            min_impurity_decrease=0.0, min_impurity_split=None,\n",
       "            min_samples_leaf=1, min_samples_split=2,\n",
       "            min_weight_fraction_leaf=0.0, n_estimators=100, n_jobs=None,\n",
       "            oob_score=False, random_state=None, verbose=0,\n",
       "            warm_start=False)"
      ]
     },
     "execution_count": 29,
     "metadata": {},
     "output_type": "execute_result"
    }
   ],
   "source": [
    "# put the whole training data into the model to train\n",
    "estimator = RandomForestClassifier(max_depth = 3, n_estimators= 100)\n",
    "estimator.fit(train, target)"
   ]
  },
  {
   "cell_type": "code",
   "execution_count": 30,
   "metadata": {},
   "outputs": [],
   "source": [
    "# modify the test dataset to let it be able to fit in the model\n",
    "test = pd.read_csv('./ml100/test_features.csv')\n",
    "name = test['name']\n",
    "test['rate_of_from_poi_to_totalEmail']=test['from_poi_to_this_person']/test['to_messages']\n",
    "\n",
    "test['rate_of_to_poi_to_totalEmail'] = test['from_this_person_to_poi']/test['from_messages']\n",
    "\n",
    "test['rate_of_bonus_to_totalPayment'] =test['bonus']/test['total_payments']\n",
    "\n",
    "test['rate_of_bonus_to_salary'] = test['bonus']/test['salary']\n",
    "\n",
    "test['rate_of_from_poi_to_share'] = test['shared_receipt_with_poi']/test['from_messages']\n",
    "\n",
    "test['rate_stock_options_to_total'] = test['exercised_stock_options']/test['total_stock_value']\n",
    "\n",
    "test.drop('name', axis=1,inplace=True)\n",
    "test=test[used_features]\n",
    "test = pd.DataFrame(scaler.fit_transform(test),columns=test.columns)\n",
    "test.fillna(0,inplace = True)\n",
    "\n",
    "# extract the probability of being person of interest\n",
    "result = estimator.predict_proba(test,)[:,1]\n",
    "\n",
    "output=pd.DataFrame({'name':name,'poi':result})\n",
    "output.to_csv('output.csv',index=False)"
   ]
  },
  {
   "cell_type": "markdown",
   "metadata": {},
   "source": [
    "# 6. Result"
   ]
  },
  {
   "cell_type": "markdown",
   "metadata": {},
   "source": [
    "## Score: 0.94285 (Top 10%) on Kaggle\n"
   ]
  }
 ],
 "metadata": {
  "kernelspec": {
   "display_name": "Python 3",
   "language": "python",
   "name": "python3"
  },
  "language_info": {
   "codemirror_mode": {
    "name": "ipython",
    "version": 3
   },
   "file_extension": ".py",
   "mimetype": "text/x-python",
   "name": "python",
   "nbconvert_exporter": "python",
   "pygments_lexer": "ipython3",
   "version": "3.7.3"
  }
 },
 "nbformat": 4,
 "nbformat_minor": 4
}
